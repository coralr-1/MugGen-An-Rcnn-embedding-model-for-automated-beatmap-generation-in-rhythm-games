{
 "cells": [
  {
   "cell_type": "markdown",
   "id": "d1b3cc7e",
   "metadata": {},
   "source": [
    "这里的代码将谱面文件转化为独热码形式的.npy文件\n",
    "\n",
    "将音乐转化为频谱的代码在model_T_train.ipynb中"
   ]
  },
  {
   "cell_type": "code",
   "execution_count": 2,
   "id": "67fd8139",
   "metadata": {},
   "outputs": [],
   "source": [
    "import os\n",
    "import sys\n",
    "import json\n",
    "import librosa\n",
    "import numpy as np\n",
    "import re\n",
    "from tqdm.notebook import tqdm\n",
    "from math import ceil\n",
    "import pickle\n",
    "import matplotlib.pyplot as plt\n",
    "import os\n",
    "import shutil\n",
    "\n",
    "\n",
    "\n",
    "\n",
    "class BpmError(Exception):\n",
    "    pass\n",
    "class MusicNotFound(Exception):\n",
    "    pass\n",
    "\n",
    "dic={\n",
    "    (0, 0, 0, 0): 0, (0, 0, 0, 1): 1, (0, 0, 1, 0): 2, (0, 0, 1, 1): 3,\n",
    "    (0, 1, 0, 0): 4, (0, 1, 0, 1): 5, (0, 1, 1, 0): 6, (0, 1, 1, 1): 7,\n",
    "    (1, 0, 0, 0): 8, (1, 0, 0, 1): 9, (1, 0, 1, 0): 10, (1, 0, 1, 1): 11,\n",
    "    (1, 1, 0, 0): 12, (1, 1, 0, 1): 13, (1, 1, 1, 0): 14, (1, 1, 1, 1): 15\n",
    "}"
   ]
  },
  {
   "cell_type": "code",
   "execution_count": 3,
   "id": "d73d86da",
   "metadata": {},
   "outputs": [],
   "source": [
    "def get_MC_map_label(path,map_name,step=int(1000/23)):#mc文件的处理\n",
    "    global dic\n",
    "    '''\n",
    "        path:谱面文件路径\n",
    "        map_name:谱面文件名称\n",
    "        step:时间步，一秒钟多少个时间步\n",
    "        \n",
    "        为了简化操作把长条的开头算作一个单点\n",
    "    '''\n",
    "    \n",
    "\n",
    "    #读取谱面文件\n",
    "    try:\n",
    "        with open(path+map_name,'r') as f:\n",
    "            data=json.loads(f.read())\n",
    "    except:\n",
    "        with open(path+map_name,'r',encoding='utf-8') as f:\n",
    "            data=json.loads(f.read())\n",
    "            \n",
    "    #获取bpm信息\n",
    "    if len(data['time'])==1:\n",
    "        bpm=round(data['time'][0]['bpm'],3)\n",
    "    else:\n",
    "        raise BpmError(f'谱面{path+map_name}含有多个bpm')\n",
    "\n",
    "    #获取音乐名称\n",
    "    music_name=data['note'][-1]['sound']\n",
    "    \n",
    "    for root,dirs,files in os.walk('labels'):\n",
    "        if music_name+'.npy' in files:\n",
    "            #print(music_name+'.npy   已存在')\n",
    "            return 1\n",
    "   \n",
    "    try:\n",
    "        #获取音乐相关信息\n",
    "        y, sr = librosa.load(path+music_name, sr=None, duration=None)\n",
    "        mu_len=librosa.get_duration(y=y, sr=sr)#音乐时长\n",
    "        mu_step=round(mu_len*step)#音乐总的时间步数\n",
    "        label=np.zeros((mu_step,4))\n",
    "    except:\n",
    "        raise MusicNotFound(f'[{path}]目录下找不到文件[{music_name}]')\n",
    "\n",
    "\n",
    "    #获取偏移信息\n",
    "    try:\n",
    "        offset_step=data['note'][-1]['offset']/1000*step #谱面偏移占了多少个时间步\n",
    "    except KeyError:#没有直接标明offset的情况下\n",
    "        offset_beat=data['note'][-1]['beat']\n",
    "        offset_step=(offset_beat[0]+offset_beat[1]/offset_beat[2])/bpm*60*step\n",
    "\n",
    "    #将音符转化为labels\n",
    "    for i in data['note'][:-1]:\n",
    "        col=i['column']#谱面中的轨道，1234轨道分别对应0123\n",
    "        if len(i)==2:#为单点音符时\n",
    "            note_step=round((i['beat'][0]+i['beat'][1]/i['beat'][2])/bpm*60*step-offset_step)\n",
    "            label[note_step,col]=1\n",
    "            \n",
    "        if len(i)==3:#为长条音符时---只计算开头为单点\n",
    "            #ln_step:[step_start,step_end]\n",
    "            ln_step=[round((i['beat'][0]+i['beat'][1]/i['beat'][2])/bpm*60*step-offset_step),\n",
    "                     round((i['endbeat'][0]+i['endbeat'][1]/i['endbeat'][2])/bpm*60*step-offset_step)]\n",
    "            label[ln_step[0],col]=1\n",
    "\n",
    "#         if len(i)==3:#为长条音符时\n",
    "#             #ln_step:[step_start,step_end]\n",
    "#             ln_step=[round((i['beat'][0]+i['beat'][1]/i['beat'][2])/bpm*60*step-offset_step),\n",
    "#                      round((i['endbeat'][0]+i['endbeat'][1]/i['endbeat'][2])/bpm*60*step-offset_step)]\n",
    "#             label[ln_step[0]:ln_step[1],col,1]=1\n",
    "#     np.save(path+music_name+'.npy', label)\n",
    "    res=[]\n",
    "    for i in label:\n",
    "        temp=[0]*16\n",
    "        res.append(dic[tuple(i)])\n",
    "    res=np.array(res)\n",
    "    #np.save(path+music_name+'.npy', res)\n",
    "    return res,path+music_name\n",
    "\n",
    "path='./0/朝你大胯捏一把 (Hardcore remix)/0/'\n",
    "map_name='Hei Tuzi - Chao Ni Da Kua Nie Yi Ba(Hardcore remix) (XingRen) [Hard][key].mc'\n",
    "\n"
   ]
  },
  {
   "cell_type": "code",
   "execution_count": 4,
   "id": "a84838c7",
   "metadata": {},
   "outputs": [],
   "source": [
    "def get_OSU_map_label(path,map_name,step=int(1000/23)):#OSU谱面文件的处理\n",
    "    '''\n",
    "        path:谱面文件路径\n",
    "        map_name:谱面文件名称\n",
    "        step:时间步，一秒钟多少个时间步\n",
    "    '''\n",
    "    global dic\n",
    "    \n",
    "    #读取谱面文件\n",
    "    try:\n",
    "        with open(path+map_name,'r') as f:\n",
    "            data=f.read()\n",
    "    except:\n",
    "        with open(path+map_name,'r',encoding='utf-8') as f:\n",
    "            data=f.read()\n",
    "        \n",
    "    #获取谱面的基础信息\n",
    "    for row,i in enumerate(data.split('\\n')):\n",
    "        if 'AudioFilename' in i:\n",
    "            music_name=i[15:]\n",
    "            for root,dirs,files in os.walk('labels'):\n",
    "                if music_name+'.npy' in files:\n",
    "                    #print(music_name+'.npy   已存在')\n",
    "                    return 1\n",
    "            try:\n",
    "                #获取音乐相关信息\n",
    "                y, sr = librosa.load(path+music_name, sr=None, duration=None)\n",
    "                mu_len=librosa.get_duration(y=y, sr=sr)#音乐时长\n",
    "                mu_step=round(mu_len*step)#音乐总的时间步数\n",
    "                label=np.zeros((mu_step,4))\n",
    "            except:\n",
    "                raise MusicNotFound(f'[{path}]目录下找不到文件[{music_name}]')\n",
    "        #获取note开始的行数\n",
    "        if 'HitObjects' in i:\n",
    "            note_row=row+1\n",
    "            break\n",
    "    \n",
    "    \n",
    "    #获取note列参数信息\n",
    "    col_set=set()\n",
    "    for i in data.split('\\n')[note_row:]:\n",
    "        col_set.add(re.split(',|:',i)[0])\n",
    "    col_set.remove('')\n",
    "    col_list=sorted([int(i) for i in col_set])\n",
    "    \n",
    "    #将音符转化为labels\n",
    "    for i in data.split('\\n')[note_row:]:\n",
    "        i=re.split(',|:',i)\n",
    "        if len(i)<10:\n",
    "            continue\n",
    "        col=col_list.index(int(i[0]))\n",
    "        if len(i)==10:#单点音符\n",
    "            note_step=round(int(i[2])/1000*step)\n",
    "            label[note_step,col]=1\n",
    "        if len(i)==11:#长条音符--只计算开头为单点\n",
    "            ln_step=[round(int(i[2])/1000*step),round(int(i[5])/1000*step)]\n",
    "            label[ln_step[0],col]=1\n",
    "#         if len(i)==11:#长条音符\n",
    "#             ln_step=[round(int(i[2])/1000*step),round(int(i[5])/1000*step)]\n",
    "#             label[ln_step[0]:ln_step[1],col,1]=1\n",
    "#     np.save(path+music_name+'.npy', label)\n",
    "\n",
    "    res=[]\n",
    "    for i in label:\n",
    "        res.append(dic[tuple(i)])\n",
    "    res=np.array(res)\n",
    "    #np.save(path+music_name+'.npy', res)\n",
    "    return res,path+music_name\n",
    "    \n",
    "    \n",
    "    \n",
    "# path='./'\n",
    "# map_name=\"Sharpnel Sounds - We Luv Lama (Night Bunny 7) [IcyWorld's Lv.29].osu\"\n",
    "# step=100\n",
    "# get_OSU_map_label(path,map_name,step=100)"
   ]
  },
  {
   "cell_type": "code",
   "execution_count": 5,
   "id": "6173ff86",
   "metadata": {
    "scrolled": true
   },
   "outputs": [
    {
     "data": {
      "application/vnd.jupyter.widget-view+json": {
       "model_id": "162f6cdbd1cb482ebedf53b55499642b",
       "version_major": 2,
       "version_minor": 0
      },
      "text/plain": [
       "0it [00:00, ?it/s]"
      ]
     },
     "metadata": {},
     "output_type": "display_data"
    },
    {
     "data": {
      "application/vnd.jupyter.widget-view+json": {
       "model_id": "d9b3776bca194e0389beb79def130701",
       "version_major": 2,
       "version_minor": 0
      },
      "text/plain": [
       "0it [00:00, ?it/s]"
      ]
     },
     "metadata": {},
     "output_type": "display_data"
    },
    {
     "data": {
      "application/vnd.jupyter.widget-view+json": {
       "model_id": "8fd6166e073d43f3b85f47f52ed1024d",
       "version_major": 2,
       "version_minor": 0
      },
      "text/plain": [
       "  0%|          | 0/3 [00:00<?, ?it/s]"
      ]
     },
     "metadata": {},
     "output_type": "display_data"
    },
    {
     "data": {
      "application/vnd.jupyter.widget-view+json": {
       "model_id": "6668908cb7ae4661b5a66bbd8241a57b",
       "version_major": 2,
       "version_minor": 0
      },
      "text/plain": [
       "0it [00:00, ?it/s]"
      ]
     },
     "metadata": {},
     "output_type": "display_data"
    },
    {
     "data": {
      "application/vnd.jupyter.widget-view+json": {
       "model_id": "e03175faa1bd4e4999b16790491a86dd",
       "version_major": 2,
       "version_minor": 0
      },
      "text/plain": [
       "  0%|          | 0/3 [00:00<?, ?it/s]"
      ]
     },
     "metadata": {},
     "output_type": "display_data"
    },
    {
     "data": {
      "application/vnd.jupyter.widget-view+json": {
       "model_id": "7260eb5db30245b38401bf18091950b9",
       "version_major": 2,
       "version_minor": 0
      },
      "text/plain": [
       "0it [00:00, ?it/s]"
      ]
     },
     "metadata": {},
     "output_type": "display_data"
    },
    {
     "data": {
      "application/vnd.jupyter.widget-view+json": {
       "model_id": "60643d1abdb74bb2a9826422918f8e40",
       "version_major": 2,
       "version_minor": 0
      },
      "text/plain": [
       "  0%|          | 0/3 [00:00<?, ?it/s]"
      ]
     },
     "metadata": {},
     "output_type": "display_data"
    },
    {
     "data": {
      "application/vnd.jupyter.widget-view+json": {
       "model_id": "3d958bd64e964abcaa067e6e4e39fea1",
       "version_major": 2,
       "version_minor": 0
      },
      "text/plain": [
       "0it [00:00, ?it/s]"
      ]
     },
     "metadata": {},
     "output_type": "display_data"
    },
    {
     "data": {
      "application/vnd.jupyter.widget-view+json": {
       "model_id": "6aae62d14fac4bb68ea82e23a30d144e",
       "version_major": 2,
       "version_minor": 0
      },
      "text/plain": [
       "  0%|          | 0/21 [00:00<?, ?it/s]"
      ]
     },
     "metadata": {},
     "output_type": "display_data"
    },
    {
     "name": "stdout",
     "output_type": "stream",
     "text": [
      "谱面1\\0 (12)\\0\\Various Artists - Malody 4K Regular Dan v3-Jack (10dan).mc含有多个bpm\n",
      "谱面1\\0 (12)\\0\\Various Artists - Malody 4K Regular Dan v3-Jack (4dan).mc含有多个bpm\n",
      "谱面1\\0 (12)\\0\\Various Artists - Malody 4K Regular Dan v3-Jack (9dan).mc含有多个bpm\n"
     ]
    },
    {
     "data": {
      "application/vnd.jupyter.widget-view+json": {
       "model_id": "2c97735a8efe4e73987860768f859803",
       "version_major": 2,
       "version_minor": 0
      },
      "text/plain": [
       "0it [00:00, ?it/s]"
      ]
     },
     "metadata": {},
     "output_type": "display_data"
    },
    {
     "data": {
      "application/vnd.jupyter.widget-view+json": {
       "model_id": "3a17457fd94b4121a809dd5b7b848382",
       "version_major": 2,
       "version_minor": 0
      },
      "text/plain": [
       "  0%|          | 0/23 [00:00<?, ?it/s]"
      ]
     },
     "metadata": {},
     "output_type": "display_data"
    },
    {
     "name": "stdout",
     "output_type": "stream",
     "text": [
      "谱面1\\0 (13)\\0\\Various Artists - Malody 4K Extra Dan v3-Jack (ex1).mc含有多个bpm\n",
      "谱面1\\0 (13)\\0\\Various Artists - Malody 4K Extra Dan v3-Jack (ex5).mc含有多个bpm\n",
      "谱面1\\0 (13)\\0\\Various Artists - Malody 4K Extra Dan v3-Jack (ex6).mc含有多个bpm\n",
      "谱面1\\0 (13)\\0\\Various Artists - Malody 4K Extra Dan v3-Jack (ex7).mc含有多个bpm\n",
      "谱面1\\0 (13)\\0\\Various Artists - Malody 4K Extra Dan v3-Jack (ex8).mc含有多个bpm\n",
      "谱面1\\0 (13)\\0\\Various Artists - Malody 4K Extra Dan v3-Jack (ex9).mc含有多个bpm\n",
      "谱面1\\0 (13)\\0\\Various Artists - Malody 4K Extra Dan v3-Jack (exf).mc含有多个bpm\n"
     ]
    },
    {
     "data": {
      "application/vnd.jupyter.widget-view+json": {
       "model_id": "6829d6dd0f094b2aa7fb414863998274",
       "version_major": 2,
       "version_minor": 0
      },
      "text/plain": [
       "0it [00:00, ?it/s]"
      ]
     },
     "metadata": {},
     "output_type": "display_data"
    },
    {
     "data": {
      "application/vnd.jupyter.widget-view+json": {
       "model_id": "96ff71907ff7461a8dea00bf362d7078",
       "version_major": 2,
       "version_minor": 0
      },
      "text/plain": [
       "  0%|          | 0/3 [00:00<?, ?it/s]"
      ]
     },
     "metadata": {},
     "output_type": "display_data"
    },
    {
     "data": {
      "application/vnd.jupyter.widget-view+json": {
       "model_id": "303961a0e8124c6fac818ae6e3ef2f00",
       "version_major": 2,
       "version_minor": 0
      },
      "text/plain": [
       "0it [00:00, ?it/s]"
      ]
     },
     "metadata": {},
     "output_type": "display_data"
    },
    {
     "data": {
      "application/vnd.jupyter.widget-view+json": {
       "model_id": "9d275bf5070740ad907e3416a70a8293",
       "version_major": 2,
       "version_minor": 0
      },
      "text/plain": [
       "  0%|          | 0/3 [00:00<?, ?it/s]"
      ]
     },
     "metadata": {},
     "output_type": "display_data"
    },
    {
     "data": {
      "application/vnd.jupyter.widget-view+json": {
       "model_id": "87d328d39aec4b3bb49894284bf12229",
       "version_major": 2,
       "version_minor": 0
      },
      "text/plain": [
       "0it [00:00, ?it/s]"
      ]
     },
     "metadata": {},
     "output_type": "display_data"
    },
    {
     "data": {
      "application/vnd.jupyter.widget-view+json": {
       "model_id": "3e6d48a933934c5692b106f4a557c285",
       "version_major": 2,
       "version_minor": 0
      },
      "text/plain": [
       "  0%|          | 0/2 [00:00<?, ?it/s]"
      ]
     },
     "metadata": {},
     "output_type": "display_data"
    },
    {
     "name": "stdout",
     "output_type": "stream",
     "text": [
      "谱面1\\0 (16)\\0\\ETIA - Jumpstream Of Fighters Vol. 1A (Leo137)[key].mc含有多个bpm\n"
     ]
    },
    {
     "data": {
      "application/vnd.jupyter.widget-view+json": {
       "model_id": "8a65650bc951440ea8136bd0cfa52a7b",
       "version_major": 2,
       "version_minor": 0
      },
      "text/plain": [
       "0it [00:00, ?it/s]"
      ]
     },
     "metadata": {},
     "output_type": "display_data"
    },
    {
     "data": {
      "application/vnd.jupyter.widget-view+json": {
       "model_id": "9bc02f71cb9a4fcd8dfee3731d44f7be",
       "version_major": 2,
       "version_minor": 0
      },
      "text/plain": [
       "  0%|          | 0/3 [00:00<?, ?it/s]"
      ]
     },
     "metadata": {},
     "output_type": "display_data"
    },
    {
     "data": {
      "application/vnd.jupyter.widget-view+json": {
       "model_id": "68dbcdf829b84f6f9671e48c61ef9257",
       "version_major": 2,
       "version_minor": 0
      },
      "text/plain": [
       "0it [00:00, ?it/s]"
      ]
     },
     "metadata": {},
     "output_type": "display_data"
    },
    {
     "data": {
      "application/vnd.jupyter.widget-view+json": {
       "model_id": "d704446880574b8b91448fc7c14b6a64",
       "version_major": 2,
       "version_minor": 0
      },
      "text/plain": [
       "  0%|          | 0/3 [00:00<?, ?it/s]"
      ]
     },
     "metadata": {},
     "output_type": "display_data"
    },
    {
     "data": {
      "application/vnd.jupyter.widget-view+json": {
       "model_id": "076b24c81e954f83ad7ab7bcbbbf3222",
       "version_major": 2,
       "version_minor": 0
      },
      "text/plain": [
       "0it [00:00, ?it/s]"
      ]
     },
     "metadata": {},
     "output_type": "display_data"
    },
    {
     "data": {
      "application/vnd.jupyter.widget-view+json": {
       "model_id": "2202b0f490a64bada75337843dec16c0",
       "version_major": 2,
       "version_minor": 0
      },
      "text/plain": [
       "  0%|          | 0/2 [00:00<?, ?it/s]"
      ]
     },
     "metadata": {},
     "output_type": "display_data"
    },
    {
     "name": "stdout",
     "output_type": "stream",
     "text": [
      "谱面1\\0 (19)\\0\\Slax - Too Much Loli (NikoSek) [x1[key].mc含有多个bpm\n"
     ]
    },
    {
     "data": {
      "application/vnd.jupyter.widget-view+json": {
       "model_id": "713242c17dc8459db1e537cc610fe576",
       "version_major": 2,
       "version_minor": 0
      },
      "text/plain": [
       "0it [00:00, ?it/s]"
      ]
     },
     "metadata": {},
     "output_type": "display_data"
    },
    {
     "data": {
      "application/vnd.jupyter.widget-view+json": {
       "model_id": "abd7f48c8fdb4ca08434672f4efdc058",
       "version_major": 2,
       "version_minor": 0
      },
      "text/plain": [
       "  0%|          | 0/3 [00:00<?, ?it/s]"
      ]
     },
     "metadata": {},
     "output_type": "display_data"
    },
    {
     "data": {
      "application/vnd.jupyter.widget-view+json": {
       "model_id": "b9af7069739841ba8af5ea44441ce2eb",
       "version_major": 2,
       "version_minor": 0
      },
      "text/plain": [
       "0it [00:00, ?it/s]"
      ]
     },
     "metadata": {},
     "output_type": "display_data"
    },
    {
     "data": {
      "application/vnd.jupyter.widget-view+json": {
       "model_id": "9e661581e31148b3b25e6a5174e93ddd",
       "version_major": 2,
       "version_minor": 0
      },
      "text/plain": [
       "  0%|          | 0/3 [00:00<?, ?it/s]"
      ]
     },
     "metadata": {},
     "output_type": "display_data"
    },
    {
     "data": {
      "application/vnd.jupyter.widget-view+json": {
       "model_id": "600934fb4d8d4df1a5a1f99cac58f357",
       "version_major": 2,
       "version_minor": 0
      },
      "text/plain": [
       "0it [00:00, ?it/s]"
      ]
     },
     "metadata": {},
     "output_type": "display_data"
    },
    {
     "data": {
      "application/vnd.jupyter.widget-view+json": {
       "model_id": "07c09ecdb45644e4bb0adf222854fb5e",
       "version_major": 2,
       "version_minor": 0
      },
      "text/plain": [
       "  0%|          | 0/2 [00:00<?, ?it/s]"
      ]
     },
     "metadata": {},
     "output_type": "display_data"
    },
    {
     "name": "stdout",
     "output_type": "stream",
     "text": [
      "谱面1\\0 (21)\\0\\katagiri - Kamiari Algorithm (katagiri Bootleg) (NikoSek)[x1.3].mc含有多个bpm\n"
     ]
    },
    {
     "data": {
      "application/vnd.jupyter.widget-view+json": {
       "model_id": "f502911e205043c68d116ba735001c31",
       "version_major": 2,
       "version_minor": 0
      },
      "text/plain": [
       "0it [00:00, ?it/s]"
      ]
     },
     "metadata": {},
     "output_type": "display_data"
    },
    {
     "data": {
      "application/vnd.jupyter.widget-view+json": {
       "model_id": "c741b99de6dd4587be377074868c0cf8",
       "version_major": 2,
       "version_minor": 0
      },
      "text/plain": [
       "  0%|          | 0/3 [00:00<?, ?it/s]"
      ]
     },
     "metadata": {},
     "output_type": "display_data"
    },
    {
     "data": {
      "application/vnd.jupyter.widget-view+json": {
       "model_id": "4715aac96eef42868ecf98c9afa9f9e9",
       "version_major": 2,
       "version_minor": 0
      },
      "text/plain": [
       "0it [00:00, ?it/s]"
      ]
     },
     "metadata": {},
     "output_type": "display_data"
    },
    {
     "data": {
      "application/vnd.jupyter.widget-view+json": {
       "model_id": "8684c617c2294285a86b4edd34ce3300",
       "version_major": 2,
       "version_minor": 0
      },
      "text/plain": [
       "  0%|          | 0/55 [00:00<?, ?it/s]"
      ]
     },
     "metadata": {},
     "output_type": "display_data"
    },
    {
     "name": "stdout",
     "output_type": "stream",
     "text": [
      "谱面1\\0 (23)\\0\\Castalia Feat[key].mc含有多个bpm\n",
      "谱面1\\0 (23)\\0\\ClariS - Connect (NikoSek)[key].mc含有多个bpm\n",
      "谱面1\\0 (23)\\0\\DJ SHARPNEL - BLUE NOAH 2006 (NikoSek)[key].mc含有多个bpm\n",
      "谱面1\\0 (23)\\0\\DJ Sharpnel - Difficulty-G (NikoSek) [x1[key].mc含有多个bpm\n",
      "谱面1\\0 (23)\\0\\Giga & KIRA - GETCHA! feat[key].mc含有多个bpm\n",
      "谱面1\\0 (23)\\0\\HAG - Colorful (Cut Ver[key].mc含有多个bpm\n",
      "谱面1\\0 (23)\\0\\Hayakore Tatsumi - Wedding of the Goodbye (NikoSek)[key].mc含有多个bpm\n",
      "谱面1\\0 (23)\\0\\K A Z M A S A - Bon Appetit S (Oldskool HappyHardcore Remix) (NikoSek)[key].mc含有多个bpm\n",
      "谱面1\\0 (23)\\0\\katagiri - Kamiari Algorithm (katagiri Bootleg) (NikoSek) [x1[key].mc含有多个bpm\n",
      "谱面1\\0 (23)\\0\\Kondo Koji - Slider (NikoSek)[key].mc含有多个bpm\n",
      "谱面1\\0 (23)\\0\\Laser Imouto - Cursed Fate (NikoSek)[key].mc含有多个bpm\n",
      "谱面1\\0 (23)\\0\\LOLISTYLE GABBERS - Ice&Fire (NikoSek)[key].mc含有多个bpm\n",
      "谱面1\\0 (23)\\0\\S3RL feat Sara - Generic Holiday Song (Speed Up Ver[key].mc含有多个bpm\n",
      "谱面1\\0 (23)\\0\\Slax - Baka Paka (NikoSek)[key].mc含有多个bpm\n",
      "谱面1\\0 (23)\\0\\Slax - Blight My Name (NikoSek)[key].mc含有多个bpm\n",
      "谱面1\\0 (23)\\0\\Slax - Bocchi the Core! (NikoSek)[key].mc含有多个bpm\n",
      "谱面1\\0 (23)\\0\\Slax - Cherry (NikoSek) [x1[key].mc含有多个bpm\n",
      "谱面1\\0 (23)\\0\\Slax - Loli Bomb (NikoSek) [x1[key].mc含有多个bpm\n",
      "谱面1\\0 (23)\\0\\Slax - Lolitonic (NikoSek)[key].mc含有多个bpm\n",
      "谱面1\\0 (23)\\0\\Slax - Love Lie (NikoSek)[key].mc含有多个bpm\n",
      "谱面1\\0 (23)\\0\\Slax - Shimmer (NikoSek) [x1[key].mc含有多个bpm\n",
      "谱面1\\0 (23)\\0\\Slax - Sugar Loli (NikoSek) [x1[key].mc含有多个bpm\n",
      "谱面1\\0 (23)\\0\\Slax - Too Much Loli (NikoSek) [x1[key].mc含有多个bpm\n"
     ]
    },
    {
     "data": {
      "application/vnd.jupyter.widget-view+json": {
       "model_id": "cfe65cf3673f4fc29e414311a3de0a72",
       "version_major": 2,
       "version_minor": 0
      },
      "text/plain": [
       "0it [00:00, ?it/s]"
      ]
     },
     "metadata": {},
     "output_type": "display_data"
    },
    {
     "data": {
      "application/vnd.jupyter.widget-view+json": {
       "model_id": "aff0b3a559f34930b741514e581c50d0",
       "version_major": 2,
       "version_minor": 0
      },
      "text/plain": [
       "  0%|          | 0/3 [00:00<?, ?it/s]"
      ]
     },
     "metadata": {},
     "output_type": "display_data"
    },
    {
     "data": {
      "application/vnd.jupyter.widget-view+json": {
       "model_id": "1ad90b9df54f44679369bac2b417f4f7",
       "version_major": 2,
       "version_minor": 0
      },
      "text/plain": [
       "0it [00:00, ?it/s]"
      ]
     },
     "metadata": {},
     "output_type": "display_data"
    },
    {
     "data": {
      "application/vnd.jupyter.widget-view+json": {
       "model_id": "0ac637e1db2b41839a8b43b066a1605c",
       "version_major": 2,
       "version_minor": 0
      },
      "text/plain": [
       "  0%|          | 0/3 [00:00<?, ?it/s]"
      ]
     },
     "metadata": {},
     "output_type": "display_data"
    },
    {
     "data": {
      "application/vnd.jupyter.widget-view+json": {
       "model_id": "577443dceea843b0adf339f94e58bed3",
       "version_major": 2,
       "version_minor": 0
      },
      "text/plain": [
       "0it [00:00, ?it/s]"
      ]
     },
     "metadata": {},
     "output_type": "display_data"
    },
    {
     "data": {
      "application/vnd.jupyter.widget-view+json": {
       "model_id": "b474307793264caca41b568a446c8d7e",
       "version_major": 2,
       "version_minor": 0
      },
      "text/plain": [
       "  0%|          | 0/3 [00:00<?, ?it/s]"
      ]
     },
     "metadata": {},
     "output_type": "display_data"
    },
    {
     "data": {
      "application/vnd.jupyter.widget-view+json": {
       "model_id": "82406b9b3f5044c39a28551ab7776fdb",
       "version_major": 2,
       "version_minor": 0
      },
      "text/plain": [
       "  0%|          | 0/6 [00:00<?, ?it/s]"
      ]
     },
     "metadata": {},
     "output_type": "display_data"
    },
    {
     "data": {
      "application/vnd.jupyter.widget-view+json": {
       "model_id": "b88d5ed55c9048e6863a7e271d8a9c4f",
       "version_major": 2,
       "version_minor": 0
      },
      "text/plain": [
       "  0%|          | 0/3 [00:00<?, ?it/s]"
      ]
     },
     "metadata": {},
     "output_type": "display_data"
    },
    {
     "data": {
      "application/vnd.jupyter.widget-view+json": {
       "model_id": "59da0ad444cc406c996e8b0a757909f1",
       "version_major": 2,
       "version_minor": 0
      },
      "text/plain": [
       "  0%|          | 0/3 [00:00<?, ?it/s]"
      ]
     },
     "metadata": {},
     "output_type": "display_data"
    },
    {
     "data": {
      "application/vnd.jupyter.widget-view+json": {
       "model_id": "e3eff47fc8eb4e3db6c6c576f3f98c30",
       "version_major": 2,
       "version_minor": 0
      },
      "text/plain": [
       "0it [00:00, ?it/s]"
      ]
     },
     "metadata": {},
     "output_type": "display_data"
    },
    {
     "data": {
      "application/vnd.jupyter.widget-view+json": {
       "model_id": "8f21131baf3046ff8a249fc7f44120b1",
       "version_major": 2,
       "version_minor": 0
      },
      "text/plain": [
       "  0%|          | 0/3 [00:00<?, ?it/s]"
      ]
     },
     "metadata": {},
     "output_type": "display_data"
    },
    {
     "data": {
      "application/vnd.jupyter.widget-view+json": {
       "model_id": "a72a1f3b0409449ebca64c34c4a734c0",
       "version_major": 2,
       "version_minor": 0
      },
      "text/plain": [
       "0it [00:00, ?it/s]"
      ]
     },
     "metadata": {},
     "output_type": "display_data"
    },
    {
     "data": {
      "application/vnd.jupyter.widget-view+json": {
       "model_id": "a6bd1ccb458145429deccb14d28f9446",
       "version_major": 2,
       "version_minor": 0
      },
      "text/plain": [
       "  0%|          | 0/21 [00:00<?, ?it/s]"
      ]
     },
     "metadata": {},
     "output_type": "display_data"
    },
    {
     "data": {
      "application/vnd.jupyter.widget-view+json": {
       "model_id": "7802fc3a200e4c3297846614ff088b1d",
       "version_major": 2,
       "version_minor": 0
      },
      "text/plain": [
       "0it [00:00, ?it/s]"
      ]
     },
     "metadata": {},
     "output_type": "display_data"
    },
    {
     "data": {
      "application/vnd.jupyter.widget-view+json": {
       "model_id": "69b37b750d5f469184614baabe4acf25",
       "version_major": 2,
       "version_minor": 0
      },
      "text/plain": [
       "  0%|          | 0/3 [00:00<?, ?it/s]"
      ]
     },
     "metadata": {},
     "output_type": "display_data"
    },
    {
     "data": {
      "application/vnd.jupyter.widget-view+json": {
       "model_id": "e1b82457aff5417a9bbc4c25a80f608f",
       "version_major": 2,
       "version_minor": 0
      },
      "text/plain": [
       "0it [00:00, ?it/s]"
      ]
     },
     "metadata": {},
     "output_type": "display_data"
    },
    {
     "data": {
      "application/vnd.jupyter.widget-view+json": {
       "model_id": "9d97a4fbc4c74ef88c0fabef0736c0c7",
       "version_major": 2,
       "version_minor": 0
      },
      "text/plain": [
       "  0%|          | 0/3 [00:00<?, ?it/s]"
      ]
     },
     "metadata": {},
     "output_type": "display_data"
    },
    {
     "data": {
      "application/vnd.jupyter.widget-view+json": {
       "model_id": "0e7c2c05e9144aa1bc9e41f77d6dc440",
       "version_major": 2,
       "version_minor": 0
      },
      "text/plain": [
       "0it [00:00, ?it/s]"
      ]
     },
     "metadata": {},
     "output_type": "display_data"
    },
    {
     "data": {
      "application/vnd.jupyter.widget-view+json": {
       "model_id": "adfa6f731fe94241918b1ea0bfdfe430",
       "version_major": 2,
       "version_minor": 0
      },
      "text/plain": [
       "  0%|          | 0/3 [00:00<?, ?it/s]"
      ]
     },
     "metadata": {},
     "output_type": "display_data"
    },
    {
     "data": {
      "application/vnd.jupyter.widget-view+json": {
       "model_id": "169c1583933c43f7a49d24506b301385",
       "version_major": 2,
       "version_minor": 0
      },
      "text/plain": [
       "0it [00:00, ?it/s]"
      ]
     },
     "metadata": {},
     "output_type": "display_data"
    },
    {
     "data": {
      "application/vnd.jupyter.widget-view+json": {
       "model_id": "c2d0c91fb42a439dbafec09966757835",
       "version_major": 2,
       "version_minor": 0
      },
      "text/plain": [
       "  0%|          | 0/4 [00:00<?, ?it/s]"
      ]
     },
     "metadata": {},
     "output_type": "display_data"
    },
    {
     "data": {
      "application/vnd.jupyter.widget-view+json": {
       "model_id": "16ef8afb7d2d4bb7bbe995532caf266d",
       "version_major": 2,
       "version_minor": 0
      },
      "text/plain": [
       "0it [00:00, ?it/s]"
      ]
     },
     "metadata": {},
     "output_type": "display_data"
    },
    {
     "data": {
      "application/vnd.jupyter.widget-view+json": {
       "model_id": "e6b963f8081d484aa1f93bb7a81241ae",
       "version_major": 2,
       "version_minor": 0
      },
      "text/plain": [
       "  0%|          | 0/3 [00:00<?, ?it/s]"
      ]
     },
     "metadata": {},
     "output_type": "display_data"
    },
    {
     "data": {
      "application/vnd.jupyter.widget-view+json": {
       "model_id": "a8f639628b0c46e0b937e0968a28c4cb",
       "version_major": 2,
       "version_minor": 0
      },
      "text/plain": [
       "0it [00:00, ?it/s]"
      ]
     },
     "metadata": {},
     "output_type": "display_data"
    },
    {
     "data": {
      "application/vnd.jupyter.widget-view+json": {
       "model_id": "198f7a7728774648b7679eec95a5cdc1",
       "version_major": 2,
       "version_minor": 0
      },
      "text/plain": [
       "  0%|          | 0/3 [00:00<?, ?it/s]"
      ]
     },
     "metadata": {},
     "output_type": "display_data"
    },
    {
     "data": {
      "application/vnd.jupyter.widget-view+json": {
       "model_id": "8146aa8718384048b34f47215819c8d6",
       "version_major": 2,
       "version_minor": 0
      },
      "text/plain": [
       "0it [00:00, ?it/s]"
      ]
     },
     "metadata": {},
     "output_type": "display_data"
    },
    {
     "data": {
      "application/vnd.jupyter.widget-view+json": {
       "model_id": "bce7969e748c4b79a611c875b9f56468",
       "version_major": 2,
       "version_minor": 0
      },
      "text/plain": [
       "  0%|          | 0/3 [00:00<?, ?it/s]"
      ]
     },
     "metadata": {},
     "output_type": "display_data"
    },
    {
     "data": {
      "application/vnd.jupyter.widget-view+json": {
       "model_id": "34b28432b0484ebc8543784c0c742fc6",
       "version_major": 2,
       "version_minor": 0
      },
      "text/plain": [
       "0it [00:00, ?it/s]"
      ]
     },
     "metadata": {},
     "output_type": "display_data"
    },
    {
     "data": {
      "application/vnd.jupyter.widget-view+json": {
       "model_id": "dea68188e9ac4dd0bfe817dc9dbb9eed",
       "version_major": 2,
       "version_minor": 0
      },
      "text/plain": [
       "  0%|          | 0/3 [00:00<?, ?it/s]"
      ]
     },
     "metadata": {},
     "output_type": "display_data"
    },
    {
     "data": {
      "application/vnd.jupyter.widget-view+json": {
       "model_id": "c7e492415f594856b77d6e0cbabef84e",
       "version_major": 2,
       "version_minor": 0
      },
      "text/plain": [
       "0it [00:00, ?it/s]"
      ]
     },
     "metadata": {},
     "output_type": "display_data"
    },
    {
     "data": {
      "application/vnd.jupyter.widget-view+json": {
       "model_id": "c2ef62c72d3e43af9cdd2ab92dc67eb8",
       "version_major": 2,
       "version_minor": 0
      },
      "text/plain": [
       "  0%|          | 0/3 [00:00<?, ?it/s]"
      ]
     },
     "metadata": {},
     "output_type": "display_data"
    },
    {
     "data": {
      "application/vnd.jupyter.widget-view+json": {
       "model_id": "4947e2168dbb4c5c85a9128e86936b51",
       "version_major": 2,
       "version_minor": 0
      },
      "text/plain": [
       "  0%|          | 0/3 [00:00<?, ?it/s]"
      ]
     },
     "metadata": {},
     "output_type": "display_data"
    },
    {
     "data": {
      "application/vnd.jupyter.widget-view+json": {
       "model_id": "57e7cd7a1dc24038bf80d27019acedf1",
       "version_major": 2,
       "version_minor": 0
      },
      "text/plain": [
       "0it [00:00, ?it/s]"
      ]
     },
     "metadata": {},
     "output_type": "display_data"
    },
    {
     "data": {
      "application/vnd.jupyter.widget-view+json": {
       "model_id": "ecf47f7c992c4da9b6cb17b7172eff8b",
       "version_major": 2,
       "version_minor": 0
      },
      "text/plain": [
       "  0%|          | 0/4 [00:00<?, ?it/s]"
      ]
     },
     "metadata": {},
     "output_type": "display_data"
    },
    {
     "data": {
      "application/vnd.jupyter.widget-view+json": {
       "model_id": "6c9777e225c34dfdbc96c1cf5bf8e8af",
       "version_major": 2,
       "version_minor": 0
      },
      "text/plain": [
       "  0%|          | 0/22 [00:00<?, ?it/s]"
      ]
     },
     "metadata": {},
     "output_type": "display_data"
    },
    {
     "data": {
      "application/vnd.jupyter.widget-view+json": {
       "model_id": "0e098046ec66498e8c5bd1c0c7c533a2",
       "version_major": 2,
       "version_minor": 0
      },
      "text/plain": [
       "0it [00:00, ?it/s]"
      ]
     },
     "metadata": {},
     "output_type": "display_data"
    },
    {
     "data": {
      "application/vnd.jupyter.widget-view+json": {
       "model_id": "d3979a9600434e44b64ec277b62b0b0b",
       "version_major": 2,
       "version_minor": 0
      },
      "text/plain": [
       "  0%|          | 0/3 [00:00<?, ?it/s]"
      ]
     },
     "metadata": {},
     "output_type": "display_data"
    },
    {
     "data": {
      "application/vnd.jupyter.widget-view+json": {
       "model_id": "74c25f6d76bd4d5c991bfd5410872fe3",
       "version_major": 2,
       "version_minor": 0
      },
      "text/plain": [
       "0it [00:00, ?it/s]"
      ]
     },
     "metadata": {},
     "output_type": "display_data"
    },
    {
     "data": {
      "application/vnd.jupyter.widget-view+json": {
       "model_id": "cafd258398504df88bfc5278d1138296",
       "version_major": 2,
       "version_minor": 0
      },
      "text/plain": [
       "  0%|          | 0/64 [00:00<?, ?it/s]"
      ]
     },
     "metadata": {},
     "output_type": "display_data"
    },
    {
     "name": "stdout",
     "output_type": "stream",
     "text": [
      "谱面1\\0 (43)\\0\\1584250101.mc含有多个bpm\n",
      "谱面1\\0 (43)\\0\\1584252608.mc含有多个bpm\n",
      "谱面1\\0 (43)\\0\\1584252873.mc含有多个bpm\n",
      "谱面1\\0 (43)\\0\\1584253580.mc含有多个bpm\n",
      "谱面1\\0 (43)\\0\\Various Artists - Malody 4K Extra Dan v3-Stream (ex3).mc含有多个bpm\n",
      "谱面1\\0 (43)\\0\\Various Artists - Malody 4K Extra Dan v3-Stream (ex5).mc含有多个bpm\n",
      "谱面1\\0 (43)\\0\\Various Artists - Malody 4K Extra Dan v3-Stream (ex8).mc含有多个bpm\n",
      "谱面1\\0 (43)\\0\\Various Artists - Malody 4K Extra Dan v3-Stream (ex9).mc含有多个bpm\n",
      "谱面1\\0 (43)\\0\\Various Artists - Malody 4K Extra Dan v3-Stream (exf).mc含有多个bpm\n"
     ]
    },
    {
     "data": {
      "application/vnd.jupyter.widget-view+json": {
       "model_id": "546258825e284c0e817915c466e11eda",
       "version_major": 2,
       "version_minor": 0
      },
      "text/plain": [
       "0it [00:00, ?it/s]"
      ]
     },
     "metadata": {},
     "output_type": "display_data"
    },
    {
     "data": {
      "application/vnd.jupyter.widget-view+json": {
       "model_id": "f4e363cd62404bb784d44f1f8190db87",
       "version_major": 2,
       "version_minor": 0
      },
      "text/plain": [
       "  0%|          | 0/3 [00:00<?, ?it/s]"
      ]
     },
     "metadata": {},
     "output_type": "display_data"
    },
    {
     "data": {
      "application/vnd.jupyter.widget-view+json": {
       "model_id": "d25fd5ae7f3e4c5385dd341220d4b892",
       "version_major": 2,
       "version_minor": 0
      },
      "text/plain": [
       "0it [00:00, ?it/s]"
      ]
     },
     "metadata": {},
     "output_type": "display_data"
    },
    {
     "data": {
      "application/vnd.jupyter.widget-view+json": {
       "model_id": "e3bef85b46fb46cf8b0494a90e15801a",
       "version_major": 2,
       "version_minor": 0
      },
      "text/plain": [
       "  0%|          | 0/3 [00:00<?, ?it/s]"
      ]
     },
     "metadata": {},
     "output_type": "display_data"
    },
    {
     "data": {
      "application/vnd.jupyter.widget-view+json": {
       "model_id": "9a94039887274e0681f821e30012b10f",
       "version_major": 2,
       "version_minor": 0
      },
      "text/plain": [
       "0it [00:00, ?it/s]"
      ]
     },
     "metadata": {},
     "output_type": "display_data"
    },
    {
     "data": {
      "application/vnd.jupyter.widget-view+json": {
       "model_id": "24e67f044976431cb26e70b1a6462784",
       "version_major": 2,
       "version_minor": 0
      },
      "text/plain": [
       "  0%|          | 0/6 [00:00<?, ?it/s]"
      ]
     },
     "metadata": {},
     "output_type": "display_data"
    },
    {
     "data": {
      "application/vnd.jupyter.widget-view+json": {
       "model_id": "2839b374c54b40cb833f13619f05c162",
       "version_major": 2,
       "version_minor": 0
      },
      "text/plain": [
       "0it [00:00, ?it/s]"
      ]
     },
     "metadata": {},
     "output_type": "display_data"
    },
    {
     "data": {
      "application/vnd.jupyter.widget-view+json": {
       "model_id": "b184f952cb4847038ddc882e609e2544",
       "version_major": 2,
       "version_minor": 0
      },
      "text/plain": [
       "  0%|          | 0/2 [00:00<?, ?it/s]"
      ]
     },
     "metadata": {},
     "output_type": "display_data"
    },
    {
     "name": "stdout",
     "output_type": "stream",
     "text": [
      "谱面1\\0 (47)\\0\\Helblinde - Jumpstream Of Fighters Vol. 1A (Leo137)[key].mc含有多个bpm\n"
     ]
    },
    {
     "data": {
      "application/vnd.jupyter.widget-view+json": {
       "model_id": "fd296e354af44d94891bd96eb9dd5911",
       "version_major": 2,
       "version_minor": 0
      },
      "text/plain": [
       "0it [00:00, ?it/s]"
      ]
     },
     "metadata": {},
     "output_type": "display_data"
    },
    {
     "data": {
      "application/vnd.jupyter.widget-view+json": {
       "model_id": "d8b8189c74cf453fb14104c745def9e8",
       "version_major": 2,
       "version_minor": 0
      },
      "text/plain": [
       "  0%|          | 0/3 [00:00<?, ?it/s]"
      ]
     },
     "metadata": {},
     "output_type": "display_data"
    },
    {
     "data": {
      "application/vnd.jupyter.widget-view+json": {
       "model_id": "d80fe8c37aae4d179a709255c314f921",
       "version_major": 2,
       "version_minor": 0
      },
      "text/plain": [
       "0it [00:00, ?it/s]"
      ]
     },
     "metadata": {},
     "output_type": "display_data"
    },
    {
     "data": {
      "application/vnd.jupyter.widget-view+json": {
       "model_id": "052d4f0f78ad4ba29410e3143b4b85e3",
       "version_major": 2,
       "version_minor": 0
      },
      "text/plain": [
       "  0%|          | 0/3 [00:00<?, ?it/s]"
      ]
     },
     "metadata": {},
     "output_type": "display_data"
    },
    {
     "data": {
      "application/vnd.jupyter.widget-view+json": {
       "model_id": "ae36bc16eebd41798258fa15d98ee6cf",
       "version_major": 2,
       "version_minor": 0
      },
      "text/plain": [
       "0it [00:00, ?it/s]"
      ]
     },
     "metadata": {},
     "output_type": "display_data"
    },
    {
     "data": {
      "application/vnd.jupyter.widget-view+json": {
       "model_id": "2efb2c1f4119402cb0d583db7cddaf19",
       "version_major": 2,
       "version_minor": 0
      },
      "text/plain": [
       "  0%|          | 0/3 [00:00<?, ?it/s]"
      ]
     },
     "metadata": {},
     "output_type": "display_data"
    },
    {
     "data": {
      "application/vnd.jupyter.widget-view+json": {
       "model_id": "4dbef5fa4c324819b93f369b7e47f724",
       "version_major": 2,
       "version_minor": 0
      },
      "text/plain": [
       "0it [00:00, ?it/s]"
      ]
     },
     "metadata": {},
     "output_type": "display_data"
    },
    {
     "data": {
      "application/vnd.jupyter.widget-view+json": {
       "model_id": "20e6ead4ac7544dc807892a0505c2eb7",
       "version_major": 2,
       "version_minor": 0
      },
      "text/plain": [
       "  0%|          | 0/3 [00:00<?, ?it/s]"
      ]
     },
     "metadata": {},
     "output_type": "display_data"
    },
    {
     "data": {
      "application/vnd.jupyter.widget-view+json": {
       "model_id": "74fb214023504df7969f91692720f9d0",
       "version_major": 2,
       "version_minor": 0
      },
      "text/plain": [
       "0it [00:00, ?it/s]"
      ]
     },
     "metadata": {},
     "output_type": "display_data"
    },
    {
     "data": {
      "application/vnd.jupyter.widget-view+json": {
       "model_id": "c85bea893af4475280fa1beb979742e3",
       "version_major": 2,
       "version_minor": 0
      },
      "text/plain": [
       "  0%|          | 0/3 [00:00<?, ?it/s]"
      ]
     },
     "metadata": {},
     "output_type": "display_data"
    },
    {
     "data": {
      "application/vnd.jupyter.widget-view+json": {
       "model_id": "b0144436f52044dca06393d37c9d8b37",
       "version_major": 2,
       "version_minor": 0
      },
      "text/plain": [
       "0it [00:00, ?it/s]"
      ]
     },
     "metadata": {},
     "output_type": "display_data"
    },
    {
     "data": {
      "application/vnd.jupyter.widget-view+json": {
       "model_id": "50ad350c3e944a74a854cee9c5350666",
       "version_major": 2,
       "version_minor": 0
      },
      "text/plain": [
       "  0%|          | 0/15 [00:00<?, ?it/s]"
      ]
     },
     "metadata": {},
     "output_type": "display_data"
    },
    {
     "data": {
      "application/vnd.jupyter.widget-view+json": {
       "model_id": "fdfd2ab2a14a4236974be8ea06ba758d",
       "version_major": 2,
       "version_minor": 0
      },
      "text/plain": [
       "0it [00:00, ?it/s]"
      ]
     },
     "metadata": {},
     "output_type": "display_data"
    },
    {
     "data": {
      "application/vnd.jupyter.widget-view+json": {
       "model_id": "81b97012b39e4d9baf467cf66be4afc0",
       "version_major": 2,
       "version_minor": 0
      },
      "text/plain": [
       "  0%|          | 0/12 [00:00<?, ?it/s]"
      ]
     },
     "metadata": {},
     "output_type": "display_data"
    },
    {
     "name": "stdout",
     "output_type": "stream",
     "text": [
      "谱面1\\0 (53)\\0\\1624697241.mc含有多个bpm\n",
      "谱面1\\0 (53)\\0\\1659718093.mc含有多个bpm\n",
      "谱面1\\0 (53)\\0\\1659718214.mc含有多个bpm\n",
      "谱面1\\0 (53)\\0\\1659718354.mc含有多个bpm\n",
      "谱面1\\0 (53)\\0\\DJ Sharpnel - Endurance training (- Nya Pass -)[key].mc含有多个bpm\n"
     ]
    },
    {
     "data": {
      "application/vnd.jupyter.widget-view+json": {
       "model_id": "dbfed6742e1a4581a9032d7b81c2e921",
       "version_major": 2,
       "version_minor": 0
      },
      "text/plain": [
       "0it [00:00, ?it/s]"
      ]
     },
     "metadata": {},
     "output_type": "display_data"
    },
    {
     "data": {
      "application/vnd.jupyter.widget-view+json": {
       "model_id": "2a10aa5d8ebe4cb29f1f55d7c21dc861",
       "version_major": 2,
       "version_minor": 0
      },
      "text/plain": [
       "  0%|          | 0/28 [00:00<?, ?it/s]"
      ]
     },
     "metadata": {},
     "output_type": "display_data"
    },
    {
     "data": {
      "application/vnd.jupyter.widget-view+json": {
       "model_id": "c6bf6ce231e74a95ac51ee6ce1ad34ac",
       "version_major": 2,
       "version_minor": 0
      },
      "text/plain": [
       "0it [00:00, ?it/s]"
      ]
     },
     "metadata": {},
     "output_type": "display_data"
    },
    {
     "data": {
      "application/vnd.jupyter.widget-view+json": {
       "model_id": "8378ea7cef3843bdb47ec05baa2f733b",
       "version_major": 2,
       "version_minor": 0
      },
      "text/plain": [
       "  0%|          | 0/3 [00:00<?, ?it/s]"
      ]
     },
     "metadata": {},
     "output_type": "display_data"
    },
    {
     "data": {
      "application/vnd.jupyter.widget-view+json": {
       "model_id": "1de3bd68a5cd43c694629a7ca6f7d560",
       "version_major": 2,
       "version_minor": 0
      },
      "text/plain": [
       "0it [00:00, ?it/s]"
      ]
     },
     "metadata": {},
     "output_type": "display_data"
    },
    {
     "data": {
      "application/vnd.jupyter.widget-view+json": {
       "model_id": "e36c3364081846cf9765fcad6a44fe60",
       "version_major": 2,
       "version_minor": 0
      },
      "text/plain": [
       "  0%|          | 0/9 [00:00<?, ?it/s]"
      ]
     },
     "metadata": {},
     "output_type": "display_data"
    },
    {
     "data": {
      "application/vnd.jupyter.widget-view+json": {
       "model_id": "5bc2bbe6688c4d4ca81ddac20f45638c",
       "version_major": 2,
       "version_minor": 0
      },
      "text/plain": [
       "0it [00:00, ?it/s]"
      ]
     },
     "metadata": {},
     "output_type": "display_data"
    },
    {
     "data": {
      "application/vnd.jupyter.widget-view+json": {
       "model_id": "65dda9a72a7944ba8531f531c776f4e3",
       "version_major": 2,
       "version_minor": 0
      },
      "text/plain": [
       "  0%|          | 0/6 [00:00<?, ?it/s]"
      ]
     },
     "metadata": {},
     "output_type": "display_data"
    },
    {
     "data": {
      "application/vnd.jupyter.widget-view+json": {
       "model_id": "1fff289ff6a84c1fbcad56a656c471bb",
       "version_major": 2,
       "version_minor": 0
      },
      "text/plain": [
       "0it [00:00, ?it/s]"
      ]
     },
     "metadata": {},
     "output_type": "display_data"
    },
    {
     "data": {
      "application/vnd.jupyter.widget-view+json": {
       "model_id": "2e4db89fdd5b4930a5aa81c4d7ce7a33",
       "version_major": 2,
       "version_minor": 0
      },
      "text/plain": [
       "  0%|          | 0/3 [00:00<?, ?it/s]"
      ]
     },
     "metadata": {},
     "output_type": "display_data"
    },
    {
     "data": {
      "application/vnd.jupyter.widget-view+json": {
       "model_id": "d90b21b447394ac78746c80aed540e5d",
       "version_major": 2,
       "version_minor": 0
      },
      "text/plain": [
       "0it [00:00, ?it/s]"
      ]
     },
     "metadata": {},
     "output_type": "display_data"
    },
    {
     "data": {
      "application/vnd.jupyter.widget-view+json": {
       "model_id": "a275bd6340864cbd8ab339740d2d232d",
       "version_major": 2,
       "version_minor": 0
      },
      "text/plain": [
       "  0%|          | 0/3 [00:00<?, ?it/s]"
      ]
     },
     "metadata": {},
     "output_type": "display_data"
    },
    {
     "data": {
      "application/vnd.jupyter.widget-view+json": {
       "model_id": "b2a99aaf75d64bcbb08a736d80e16819",
       "version_major": 2,
       "version_minor": 0
      },
      "text/plain": [
       "0it [00:00, ?it/s]"
      ]
     },
     "metadata": {},
     "output_type": "display_data"
    },
    {
     "data": {
      "application/vnd.jupyter.widget-view+json": {
       "model_id": "c2f6cb7836e84831931dc5d9e2b2fc03",
       "version_major": 2,
       "version_minor": 0
      },
      "text/plain": [
       "  0%|          | 0/3 [00:00<?, ?it/s]"
      ]
     },
     "metadata": {},
     "output_type": "display_data"
    },
    {
     "data": {
      "application/vnd.jupyter.widget-view+json": {
       "model_id": "e15e0777869d4f4cb36efb34e75935e2",
       "version_major": 2,
       "version_minor": 0
      },
      "text/plain": [
       "0it [00:00, ?it/s]"
      ]
     },
     "metadata": {},
     "output_type": "display_data"
    },
    {
     "data": {
      "application/vnd.jupyter.widget-view+json": {
       "model_id": "c8c0882ff74a4aa49cc99cda22282400",
       "version_major": 2,
       "version_minor": 0
      },
      "text/plain": [
       "  0%|          | 0/3 [00:00<?, ?it/s]"
      ]
     },
     "metadata": {},
     "output_type": "display_data"
    },
    {
     "data": {
      "application/vnd.jupyter.widget-view+json": {
       "model_id": "386a12d2c2ea4c23b13c854b6a4b4401",
       "version_major": 2,
       "version_minor": 0
      },
      "text/plain": [
       "0it [00:00, ?it/s]"
      ]
     },
     "metadata": {},
     "output_type": "display_data"
    },
    {
     "data": {
      "application/vnd.jupyter.widget-view+json": {
       "model_id": "b72c1b9ebc1a493b9a2557566d59178e",
       "version_major": 2,
       "version_minor": 0
      },
      "text/plain": [
       "  0%|          | 0/3 [00:00<?, ?it/s]"
      ]
     },
     "metadata": {},
     "output_type": "display_data"
    },
    {
     "data": {
      "application/vnd.jupyter.widget-view+json": {
       "model_id": "dac6027b210541df9dc6282fcfebf205",
       "version_major": 2,
       "version_minor": 0
      },
      "text/plain": [
       "0it [00:00, ?it/s]"
      ]
     },
     "metadata": {},
     "output_type": "display_data"
    },
    {
     "data": {
      "application/vnd.jupyter.widget-view+json": {
       "model_id": "967afa94aa5649e3993c72d33a47acf6",
       "version_major": 2,
       "version_minor": 0
      },
      "text/plain": [
       "  0%|          | 0/3 [00:00<?, ?it/s]"
      ]
     },
     "metadata": {},
     "output_type": "display_data"
    },
    {
     "data": {
      "application/vnd.jupyter.widget-view+json": {
       "model_id": "098e42cb92914e9a9f766074355110a7",
       "version_major": 2,
       "version_minor": 0
      },
      "text/plain": [
       "0it [00:00, ?it/s]"
      ]
     },
     "metadata": {},
     "output_type": "display_data"
    },
    {
     "data": {
      "application/vnd.jupyter.widget-view+json": {
       "model_id": "7bb01be1859042bdb82b56f3d057ac1b",
       "version_major": 2,
       "version_minor": 0
      },
      "text/plain": [
       "  0%|          | 0/3 [00:00<?, ?it/s]"
      ]
     },
     "metadata": {},
     "output_type": "display_data"
    },
    {
     "data": {
      "application/vnd.jupyter.widget-view+json": {
       "model_id": "b81f7938462544df9b239143f18382d9",
       "version_major": 2,
       "version_minor": 0
      },
      "text/plain": [
       "0it [00:00, ?it/s]"
      ]
     },
     "metadata": {},
     "output_type": "display_data"
    },
    {
     "data": {
      "application/vnd.jupyter.widget-view+json": {
       "model_id": "7964c891250d4a809a9b0f3163c7535c",
       "version_major": 2,
       "version_minor": 0
      },
      "text/plain": [
       "  0%|          | 0/8 [00:00<?, ?it/s]"
      ]
     },
     "metadata": {},
     "output_type": "display_data"
    },
    {
     "name": "stdout",
     "output_type": "stream",
     "text": [
      "谱面1\\0 (64)\\0\\1595173618.mc含有多个bpm\n",
      "谱面1\\0 (64)\\0\\Helblinde - Love is War (Night Bunny 7) x1.1.mc含有多个bpm\n",
      "谱面1\\0 (64)\\0\\Helblinde - Love is War (Night Bunny 7).mc含有多个bpm\n"
     ]
    },
    {
     "data": {
      "application/vnd.jupyter.widget-view+json": {
       "model_id": "467d759196ae4fbf83d3e7b6d6c33687",
       "version_major": 2,
       "version_minor": 0
      },
      "text/plain": [
       "0it [00:00, ?it/s]"
      ]
     },
     "metadata": {},
     "output_type": "display_data"
    },
    {
     "data": {
      "application/vnd.jupyter.widget-view+json": {
       "model_id": "f157e90e1d604e37b7c3bca42b2a65ba",
       "version_major": 2,
       "version_minor": 0
      },
      "text/plain": [
       "  0%|          | 0/20 [00:00<?, ?it/s]"
      ]
     },
     "metadata": {},
     "output_type": "display_data"
    },
    {
     "name": "stdout",
     "output_type": "stream",
     "text": [
      "谱面1\\0 (65)\\0\\Various Artists - Malody 4K Extra Dan v2-Stream (Sample) (Muses) [Sp3 - Laser Rain[1[key].mc含有多个bpm\n",
      "谱面1\\0 (65)\\0\\Various Artists - Malody 4K Extra Dan v2-Stream (Sample) (Muses) [Sp4 - We Want To Run cut[1[key].mc含有多个bpm\n",
      "谱面1\\0 (65)\\0\\Various Artists - Malody 4K Extra Dan v2-Stream (Sample) (Muses) [Sp6 - Bird Sprite cut[1[key].mc含有多个bpm\n",
      "谱面1\\0 (65)\\0\\Various Artists - Malody 4K Extra Dan v2-Stream (Sample) (Muses) [Sp8 - Perfect Cherry Storm cut[1[key].mc含有多个bpm\n",
      "谱面1\\0 (65)\\0\\Various Artists - Malody 4K Extra Dan v2-Stream (Sample) (Muses) [Sp9 - #curtaincall[1[key].mc含有多个bpm\n",
      "谱面1\\0 (65)\\0\\Various Artists - Malody 4K Extra Dan v2-Stream (Sample) (Muses)[key] (1).mc含有多个bpm\n",
      "谱面1\\0 (65)\\0\\Various Artists - Malody 4K Extra Dan v2-Stream (Sample) (Muses)[key].mc含有多个bpm\n"
     ]
    },
    {
     "data": {
      "application/vnd.jupyter.widget-view+json": {
       "model_id": "e799de1b5a694bbbb633e4695258d3ae",
       "version_major": 2,
       "version_minor": 0
      },
      "text/plain": [
       "0it [00:00, ?it/s]"
      ]
     },
     "metadata": {},
     "output_type": "display_data"
    },
    {
     "data": {
      "application/vnd.jupyter.widget-view+json": {
       "model_id": "8b3fa9146a614ff69c4f583fe3dc5a12",
       "version_major": 2,
       "version_minor": 0
      },
      "text/plain": [
       "  0%|          | 0/3 [00:00<?, ?it/s]"
      ]
     },
     "metadata": {},
     "output_type": "display_data"
    },
    {
     "data": {
      "application/vnd.jupyter.widget-view+json": {
       "model_id": "c12ffc358a35421ab999e4bc396a40ad",
       "version_major": 2,
       "version_minor": 0
      },
      "text/plain": [
       "0it [00:00, ?it/s]"
      ]
     },
     "metadata": {},
     "output_type": "display_data"
    },
    {
     "data": {
      "application/vnd.jupyter.widget-view+json": {
       "model_id": "323fda38ae6d4157874b5f1657ac49d2",
       "version_major": 2,
       "version_minor": 0
      },
      "text/plain": [
       "  0%|          | 0/3 [00:00<?, ?it/s]"
      ]
     },
     "metadata": {},
     "output_type": "display_data"
    },
    {
     "data": {
      "application/vnd.jupyter.widget-view+json": {
       "model_id": "42fa86e47600464eb1561e7bb9e342b2",
       "version_major": 2,
       "version_minor": 0
      },
      "text/plain": [
       "0it [00:00, ?it/s]"
      ]
     },
     "metadata": {},
     "output_type": "display_data"
    },
    {
     "data": {
      "application/vnd.jupyter.widget-view+json": {
       "model_id": "ad678e61c7b8466da7725c600d668f90",
       "version_major": 2,
       "version_minor": 0
      },
      "text/plain": [
       "  0%|          | 0/3 [00:00<?, ?it/s]"
      ]
     },
     "metadata": {},
     "output_type": "display_data"
    },
    {
     "data": {
      "application/vnd.jupyter.widget-view+json": {
       "model_id": "1112bfe7275a430b907931353ebb6259",
       "version_major": 2,
       "version_minor": 0
      },
      "text/plain": [
       "0it [00:00, ?it/s]"
      ]
     },
     "metadata": {},
     "output_type": "display_data"
    },
    {
     "data": {
      "application/vnd.jupyter.widget-view+json": {
       "model_id": "f28d7a3b304b4b5490b9f97becfd3d14",
       "version_major": 2,
       "version_minor": 0
      },
      "text/plain": [
       "  0%|          | 0/3 [00:00<?, ?it/s]"
      ]
     },
     "metadata": {},
     "output_type": "display_data"
    },
    {
     "data": {
      "application/vnd.jupyter.widget-view+json": {
       "model_id": "0649bd9b7fbb4af6814e1f93df83c867",
       "version_major": 2,
       "version_minor": 0
      },
      "text/plain": [
       "0it [00:00, ?it/s]"
      ]
     },
     "metadata": {},
     "output_type": "display_data"
    },
    {
     "data": {
      "application/vnd.jupyter.widget-view+json": {
       "model_id": "7831b81665ce451499751a308f829483",
       "version_major": 2,
       "version_minor": 0
      },
      "text/plain": [
       "  0%|          | 0/3 [00:00<?, ?it/s]"
      ]
     },
     "metadata": {},
     "output_type": "display_data"
    },
    {
     "data": {
      "application/vnd.jupyter.widget-view+json": {
       "model_id": "8991612bd4394e2aab97c3e1b1580afd",
       "version_major": 2,
       "version_minor": 0
      },
      "text/plain": [
       "0it [00:00, ?it/s]"
      ]
     },
     "metadata": {},
     "output_type": "display_data"
    },
    {
     "data": {
      "application/vnd.jupyter.widget-view+json": {
       "model_id": "cbe3fad8dde44a4f9a546b2367cbadf9",
       "version_major": 2,
       "version_minor": 0
      },
      "text/plain": [
       "  0%|          | 0/3 [00:00<?, ?it/s]"
      ]
     },
     "metadata": {},
     "output_type": "display_data"
    },
    {
     "data": {
      "application/vnd.jupyter.widget-view+json": {
       "model_id": "d4e840a8c0904154a1c2562a170bcd99",
       "version_major": 2,
       "version_minor": 0
      },
      "text/plain": [
       "0it [00:00, ?it/s]"
      ]
     },
     "metadata": {},
     "output_type": "display_data"
    },
    {
     "data": {
      "application/vnd.jupyter.widget-view+json": {
       "model_id": "a9c0af1db5a24252aa2b2a7e08414a4f",
       "version_major": 2,
       "version_minor": 0
      },
      "text/plain": [
       "  0%|          | 0/3 [00:00<?, ?it/s]"
      ]
     },
     "metadata": {},
     "output_type": "display_data"
    },
    {
     "data": {
      "application/vnd.jupyter.widget-view+json": {
       "model_id": "370742d40b034f4ca4c670fd84994e24",
       "version_major": 2,
       "version_minor": 0
      },
      "text/plain": [
       "0it [00:00, ?it/s]"
      ]
     },
     "metadata": {},
     "output_type": "display_data"
    },
    {
     "data": {
      "application/vnd.jupyter.widget-view+json": {
       "model_id": "14521bcc9ddd40a89e730c57b88947e9",
       "version_major": 2,
       "version_minor": 0
      },
      "text/plain": [
       "  0%|          | 0/3 [00:00<?, ?it/s]"
      ]
     },
     "metadata": {},
     "output_type": "display_data"
    },
    {
     "data": {
      "application/vnd.jupyter.widget-view+json": {
       "model_id": "3c33ac50bdf4462bbbd2ca2d3df8aedf",
       "version_major": 2,
       "version_minor": 0
      },
      "text/plain": [
       "0it [00:00, ?it/s]"
      ]
     },
     "metadata": {},
     "output_type": "display_data"
    },
    {
     "data": {
      "application/vnd.jupyter.widget-view+json": {
       "model_id": "c2b0ce0e5c9d47d0a7f9fc0e580ca203",
       "version_major": 2,
       "version_minor": 0
      },
      "text/plain": [
       "  0%|          | 0/4 [00:00<?, ?it/s]"
      ]
     },
     "metadata": {},
     "output_type": "display_data"
    },
    {
     "data": {
      "application/vnd.jupyter.widget-view+json": {
       "model_id": "3e4bf92ea3cf451cb3ddcc26d4b171ea",
       "version_major": 2,
       "version_minor": 0
      },
      "text/plain": [
       "0it [00:00, ?it/s]"
      ]
     },
     "metadata": {},
     "output_type": "display_data"
    },
    {
     "data": {
      "application/vnd.jupyter.widget-view+json": {
       "model_id": "6f7c2fd7dbbd49dca435fb26559f641e",
       "version_major": 2,
       "version_minor": 0
      },
      "text/plain": [
       "  0%|          | 0/17 [00:00<?, ?it/s]"
      ]
     },
     "metadata": {},
     "output_type": "display_data"
    },
    {
     "data": {
      "application/vnd.jupyter.widget-view+json": {
       "model_id": "c303558248dd46adb4d318c619f93e14",
       "version_major": 2,
       "version_minor": 0
      },
      "text/plain": [
       "0it [00:00, ?it/s]"
      ]
     },
     "metadata": {},
     "output_type": "display_data"
    },
    {
     "data": {
      "application/vnd.jupyter.widget-view+json": {
       "model_id": "881aa8b948154847acd1c77972f668e4",
       "version_major": 2,
       "version_minor": 0
      },
      "text/plain": [
       "  0%|          | 0/3 [00:00<?, ?it/s]"
      ]
     },
     "metadata": {},
     "output_type": "display_data"
    },
    {
     "data": {
      "application/vnd.jupyter.widget-view+json": {
       "model_id": "44dd9fa1df6849d9a5da4891c91606a8",
       "version_major": 2,
       "version_minor": 0
      },
      "text/plain": [
       "0it [00:00, ?it/s]"
      ]
     },
     "metadata": {},
     "output_type": "display_data"
    },
    {
     "data": {
      "application/vnd.jupyter.widget-view+json": {
       "model_id": "c1e25f41a4b844b5a7464fafd58b3048",
       "version_major": 2,
       "version_minor": 0
      },
      "text/plain": [
       "  0%|          | 0/3 [00:00<?, ?it/s]"
      ]
     },
     "metadata": {},
     "output_type": "display_data"
    },
    {
     "data": {
      "application/vnd.jupyter.widget-view+json": {
       "model_id": "4c5481b8c1ed433b9f06bfe2485ca956",
       "version_major": 2,
       "version_minor": 0
      },
      "text/plain": [
       "0it [00:00, ?it/s]"
      ]
     },
     "metadata": {},
     "output_type": "display_data"
    },
    {
     "data": {
      "application/vnd.jupyter.widget-view+json": {
       "model_id": "6d9d87e293204bb48d86f1467d51d020",
       "version_major": 2,
       "version_minor": 0
      },
      "text/plain": [
       "  0%|          | 0/3 [00:00<?, ?it/s]"
      ]
     },
     "metadata": {},
     "output_type": "display_data"
    },
    {
     "data": {
      "application/vnd.jupyter.widget-view+json": {
       "model_id": "e5b669d069b44f60b1054128074f42f6",
       "version_major": 2,
       "version_minor": 0
      },
      "text/plain": [
       "0it [00:00, ?it/s]"
      ]
     },
     "metadata": {},
     "output_type": "display_data"
    },
    {
     "data": {
      "application/vnd.jupyter.widget-view+json": {
       "model_id": "6688e54df2b5482c8fff703d7431b988",
       "version_major": 2,
       "version_minor": 0
      },
      "text/plain": [
       "  0%|          | 0/2 [00:00<?, ?it/s]"
      ]
     },
     "metadata": {},
     "output_type": "display_data"
    },
    {
     "name": "stdout",
     "output_type": "stream",
     "text": [
      "谱面1\\0 (78)\\0\\Helblinde - Songs Compilation (NikoSek) [Marathon x1[key].mc含有多个bpm\n"
     ]
    },
    {
     "data": {
      "application/vnd.jupyter.widget-view+json": {
       "model_id": "67126627bd464d0080dbf3f59fa8e8bf",
       "version_major": 2,
       "version_minor": 0
      },
      "text/plain": [
       "0it [00:00, ?it/s]"
      ]
     },
     "metadata": {},
     "output_type": "display_data"
    },
    {
     "data": {
      "application/vnd.jupyter.widget-view+json": {
       "model_id": "52d52d630787487d94e61c17ca8572d7",
       "version_major": 2,
       "version_minor": 0
      },
      "text/plain": [
       "  0%|          | 0/3 [00:00<?, ?it/s]"
      ]
     },
     "metadata": {},
     "output_type": "display_data"
    },
    {
     "data": {
      "application/vnd.jupyter.widget-view+json": {
       "model_id": "e88b72ea21d844779ce8b82219813815",
       "version_major": 2,
       "version_minor": 0
      },
      "text/plain": [
       "0it [00:00, ?it/s]"
      ]
     },
     "metadata": {},
     "output_type": "display_data"
    },
    {
     "data": {
      "application/vnd.jupyter.widget-view+json": {
       "model_id": "5efb640d14164ea4a2d4896cb3f282e8",
       "version_major": 2,
       "version_minor": 0
      },
      "text/plain": [
       "  0%|          | 0/24 [00:00<?, ?it/s]"
      ]
     },
     "metadata": {},
     "output_type": "display_data"
    },
    {
     "data": {
      "application/vnd.jupyter.widget-view+json": {
       "model_id": "da189c8e70664c20b54b8a5de12c0139",
       "version_major": 2,
       "version_minor": 0
      },
      "text/plain": [
       "0it [00:00, ?it/s]"
      ]
     },
     "metadata": {},
     "output_type": "display_data"
    },
    {
     "data": {
      "application/vnd.jupyter.widget-view+json": {
       "model_id": "debabd50464041dea89ea36188676ae9",
       "version_major": 2,
       "version_minor": 0
      },
      "text/plain": [
       "  0%|          | 0/3 [00:00<?, ?it/s]"
      ]
     },
     "metadata": {},
     "output_type": "display_data"
    },
    {
     "data": {
      "application/vnd.jupyter.widget-view+json": {
       "model_id": "aeb3f22d306144dc864a0d5208c9f59a",
       "version_major": 2,
       "version_minor": 0
      },
      "text/plain": [
       "0it [00:00, ?it/s]"
      ]
     },
     "metadata": {},
     "output_type": "display_data"
    },
    {
     "data": {
      "application/vnd.jupyter.widget-view+json": {
       "model_id": "dd86318e1d154b36af63047b855620f6",
       "version_major": 2,
       "version_minor": 0
      },
      "text/plain": [
       "  0%|          | 0/3 [00:00<?, ?it/s]"
      ]
     },
     "metadata": {},
     "output_type": "display_data"
    },
    {
     "data": {
      "application/vnd.jupyter.widget-view+json": {
       "model_id": "86b3b13385954cff81f162290c0efcb2",
       "version_major": 2,
       "version_minor": 0
      },
      "text/plain": [
       "0it [00:00, ?it/s]"
      ]
     },
     "metadata": {},
     "output_type": "display_data"
    },
    {
     "data": {
      "application/vnd.jupyter.widget-view+json": {
       "model_id": "0482309dc2c14541a6d7c3b286cce036",
       "version_major": 2,
       "version_minor": 0
      },
      "text/plain": [
       "  0%|          | 0/3 [00:00<?, ?it/s]"
      ]
     },
     "metadata": {},
     "output_type": "display_data"
    },
    {
     "data": {
      "application/vnd.jupyter.widget-view+json": {
       "model_id": "6a8754376e5f4ba2be21d880ecb81318",
       "version_major": 2,
       "version_minor": 0
      },
      "text/plain": [
       "0it [00:00, ?it/s]"
      ]
     },
     "metadata": {},
     "output_type": "display_data"
    },
    {
     "data": {
      "application/vnd.jupyter.widget-view+json": {
       "model_id": "c5c193700ab74fcda33d90c4cb1afca9",
       "version_major": 2,
       "version_minor": 0
      },
      "text/plain": [
       "  0%|          | 0/3 [00:00<?, ?it/s]"
      ]
     },
     "metadata": {},
     "output_type": "display_data"
    },
    {
     "data": {
      "application/vnd.jupyter.widget-view+json": {
       "model_id": "0bcac9b72d7b4d4c9afb22f5b6811ad5",
       "version_major": 2,
       "version_minor": 0
      },
      "text/plain": [
       "0it [00:00, ?it/s]"
      ]
     },
     "metadata": {},
     "output_type": "display_data"
    },
    {
     "data": {
      "application/vnd.jupyter.widget-view+json": {
       "model_id": "d80be7c62b254f45ab7c451218400f55",
       "version_major": 2,
       "version_minor": 0
      },
      "text/plain": [
       "  0%|          | 0/3 [00:00<?, ?it/s]"
      ]
     },
     "metadata": {},
     "output_type": "display_data"
    },
    {
     "data": {
      "application/vnd.jupyter.widget-view+json": {
       "model_id": "8ab9bad4727d436c874419a9de830a59",
       "version_major": 2,
       "version_minor": 0
      },
      "text/plain": [
       "0it [00:00, ?it/s]"
      ]
     },
     "metadata": {},
     "output_type": "display_data"
    },
    {
     "data": {
      "application/vnd.jupyter.widget-view+json": {
       "model_id": "67145cffaa834e40af299fa13e4fa4b6",
       "version_major": 2,
       "version_minor": 0
      },
      "text/plain": [
       "  0%|          | 0/3 [00:00<?, ?it/s]"
      ]
     },
     "metadata": {},
     "output_type": "display_data"
    },
    {
     "data": {
      "application/vnd.jupyter.widget-view+json": {
       "model_id": "aecceb872909483c83e473a9ea59e693",
       "version_major": 2,
       "version_minor": 0
      },
      "text/plain": [
       "0it [00:00, ?it/s]"
      ]
     },
     "metadata": {},
     "output_type": "display_data"
    },
    {
     "data": {
      "application/vnd.jupyter.widget-view+json": {
       "model_id": "4738f208fa7f4289842ff88f24df664e",
       "version_major": 2,
       "version_minor": 0
      },
      "text/plain": [
       "  0%|          | 0/3 [00:00<?, ?it/s]"
      ]
     },
     "metadata": {},
     "output_type": "display_data"
    },
    {
     "data": {
      "application/vnd.jupyter.widget-view+json": {
       "model_id": "f02aed0b1c10429eb2979e886e0f4cd5",
       "version_major": 2,
       "version_minor": 0
      },
      "text/plain": [
       "0it [00:00, ?it/s]"
      ]
     },
     "metadata": {},
     "output_type": "display_data"
    },
    {
     "data": {
      "application/vnd.jupyter.widget-view+json": {
       "model_id": "9f254d6cc43d413e821353189efffbda",
       "version_major": 2,
       "version_minor": 0
      },
      "text/plain": [
       "  0%|          | 0/4 [00:00<?, ?it/s]"
      ]
     },
     "metadata": {},
     "output_type": "display_data"
    },
    {
     "data": {
      "application/vnd.jupyter.widget-view+json": {
       "model_id": "05a12d828efe403e9d6b1b2d8a93ad3e",
       "version_major": 2,
       "version_minor": 0
      },
      "text/plain": [
       "0it [00:00, ?it/s]"
      ]
     },
     "metadata": {},
     "output_type": "display_data"
    },
    {
     "data": {
      "application/vnd.jupyter.widget-view+json": {
       "model_id": "4577d7b3e89b44fbb5cce728442c6f9e",
       "version_major": 2,
       "version_minor": 0
      },
      "text/plain": [
       "  0%|          | 0/5 [00:00<?, ?it/s]"
      ]
     },
     "metadata": {},
     "output_type": "display_data"
    },
    {
     "name": "stdout",
     "output_type": "stream",
     "text": [
      "谱面1\\0 (88)\\0\\Silvia - Vertex Gamma (XingRen vs[key].mc含有多个bpm\n"
     ]
    },
    {
     "data": {
      "application/vnd.jupyter.widget-view+json": {
       "model_id": "f55aeea67b1e4fc99b85c2cc6ed6fc5f",
       "version_major": 2,
       "version_minor": 0
      },
      "text/plain": [
       "0it [00:00, ?it/s]"
      ]
     },
     "metadata": {},
     "output_type": "display_data"
    },
    {
     "data": {
      "application/vnd.jupyter.widget-view+json": {
       "model_id": "46d9e3ab9f5049dbacce407c4da51fcc",
       "version_major": 2,
       "version_minor": 0
      },
      "text/plain": [
       "  0%|          | 0/3 [00:00<?, ?it/s]"
      ]
     },
     "metadata": {},
     "output_type": "display_data"
    },
    {
     "data": {
      "application/vnd.jupyter.widget-view+json": {
       "model_id": "fda95eb1c9ee475f87a44c522256b3a8",
       "version_major": 2,
       "version_minor": 0
      },
      "text/plain": [
       "0it [00:00, ?it/s]"
      ]
     },
     "metadata": {},
     "output_type": "display_data"
    },
    {
     "data": {
      "application/vnd.jupyter.widget-view+json": {
       "model_id": "fb59b9006fde4c67a97e9332ff35ae29",
       "version_major": 2,
       "version_minor": 0
      },
      "text/plain": [
       "  0%|          | 0/30 [00:00<?, ?it/s]"
      ]
     },
     "metadata": {},
     "output_type": "display_data"
    },
    {
     "data": {
      "application/vnd.jupyter.widget-view+json": {
       "model_id": "098f62249cba4240a35bf4e3c6f27b81",
       "version_major": 2,
       "version_minor": 0
      },
      "text/plain": [
       "0it [00:00, ?it/s]"
      ]
     },
     "metadata": {},
     "output_type": "display_data"
    },
    {
     "data": {
      "application/vnd.jupyter.widget-view+json": {
       "model_id": "90b90f84a0444814860fe87adea63f10",
       "version_major": 2,
       "version_minor": 0
      },
      "text/plain": [
       "  0%|          | 0/3 [00:00<?, ?it/s]"
      ]
     },
     "metadata": {},
     "output_type": "display_data"
    },
    {
     "data": {
      "application/vnd.jupyter.widget-view+json": {
       "model_id": "3a5323e7feea42c7bb77f9ce804400d1",
       "version_major": 2,
       "version_minor": 0
      },
      "text/plain": [
       "  0%|          | 0/3 [00:00<?, ?it/s]"
      ]
     },
     "metadata": {},
     "output_type": "display_data"
    },
    {
     "data": {
      "application/vnd.jupyter.widget-view+json": {
       "model_id": "61352171d7e1442cbf35a2ffadffda1c",
       "version_major": 2,
       "version_minor": 0
      },
      "text/plain": [
       "0it [00:00, ?it/s]"
      ]
     },
     "metadata": {},
     "output_type": "display_data"
    },
    {
     "data": {
      "application/vnd.jupyter.widget-view+json": {
       "model_id": "3d01dc410eb245d9b973b6435e15daf1",
       "version_major": 2,
       "version_minor": 0
      },
      "text/plain": [
       "  0%|          | 0/3 [00:00<?, ?it/s]"
      ]
     },
     "metadata": {},
     "output_type": "display_data"
    },
    {
     "data": {
      "application/vnd.jupyter.widget-view+json": {
       "model_id": "d56669b4d3aa47acb5b05d43ca24bc6f",
       "version_major": 2,
       "version_minor": 0
      },
      "text/plain": [
       "0it [00:00, ?it/s]"
      ]
     },
     "metadata": {},
     "output_type": "display_data"
    },
    {
     "data": {
      "application/vnd.jupyter.widget-view+json": {
       "model_id": "e68ccbe6418344af880a229aff48e27d",
       "version_major": 2,
       "version_minor": 0
      },
      "text/plain": [
       "  0%|          | 0/5 [00:00<?, ?it/s]"
      ]
     },
     "metadata": {},
     "output_type": "display_data"
    },
    {
     "name": "stdout",
     "output_type": "stream",
     "text": [
      "谱面1\\0.)\\0\\S3RL feat Sara - Generic Holiday Song (Speed Up Ver.) (NikoSek) [Generic Jumpstream[key].mc含有多个bpm\n"
     ]
    },
    {
     "data": {
      "application/vnd.jupyter.widget-view+json": {
       "model_id": "ecbfb9bb6c044cd6a4182436b077d2d8",
       "version_major": 2,
       "version_minor": 0
      },
      "text/plain": [
       "  0%|          | 0/3 [00:00<?, ?it/s]"
      ]
     },
     "metadata": {},
     "output_type": "display_data"
    },
    {
     "data": {
      "application/vnd.jupyter.widget-view+json": {
       "model_id": "96831b9a77094fad904452fd02692fa1",
       "version_major": 2,
       "version_minor": 0
      },
      "text/plain": [
       "0it [00:00, ?it/s]"
      ]
     },
     "metadata": {},
     "output_type": "display_data"
    },
    {
     "data": {
      "application/vnd.jupyter.widget-view+json": {
       "model_id": "a5c06bfb1c744258ac5d320ef61a44d5",
       "version_major": 2,
       "version_minor": 0
      },
      "text/plain": [
       "  0%|          | 0/3 [00:00<?, ?it/s]"
      ]
     },
     "metadata": {},
     "output_type": "display_data"
    },
    {
     "data": {
      "application/vnd.jupyter.widget-view+json": {
       "model_id": "3fd5aeeba89346939ba4a34865bfa834",
       "version_major": 2,
       "version_minor": 0
      },
      "text/plain": [
       "0it [00:00, ?it/s]"
      ]
     },
     "metadata": {},
     "output_type": "display_data"
    },
    {
     "data": {
      "application/vnd.jupyter.widget-view+json": {
       "model_id": "5e6c63b24d5c434a808f3ed1ad7f9052",
       "version_major": 2,
       "version_minor": 0
      },
      "text/plain": [
       "  0%|          | 0/3 [00:00<?, ?it/s]"
      ]
     },
     "metadata": {},
     "output_type": "display_data"
    },
    {
     "name": "stdout",
     "output_type": "stream",
     "text": [
      "162\n"
     ]
    }
   ],
   "source": [
    "'''\n",
    "osu的谱面和malody的offset不一样，这里只用malody的\n",
    "'''\n",
    "map_num=0\n",
    "for root,dirs,files in os.walk('1'):\n",
    "    for j in tqdm(files):\n",
    "        if '.mc' in j:\n",
    "            try:\n",
    "                res,path=get_MC_map_label(root+'\\\\',j,step=22050/220)#->使得每个时间步都能对齐帧数，1秒中有多少个时间步。分母是22050，分子必须是整数。\n",
    "                np.save(path+'[]'+str(map_num)+'.npy', res)\n",
    "                map_num+=1\n",
    "            except (BpmError,MusicNotFound) as e:\n",
    "                print(e)\n",
    "                pass\n",
    "#                 print(root+'\\\\'+j)\n",
    "#         if '.osu' in j:\n",
    "#             try:\n",
    "#                 res,path=get_OSU_map_label(root+'\\\\',j,step=22050/220)\n",
    "#                 np.save(path+'[]'+str(map_num)+'.npy', res)\n",
    "#                 map_num+=1\n",
    "#             except (BpmError,MusicNotFound) as e:\n",
    "#                 print(e)\n",
    "#                 pass\n",
    "#                 print(root+'\\\\'+j)\n",
    "print(map_num)"
   ]
  },
  {
   "cell_type": "code",
   "execution_count": null,
   "id": "78bc1593",
   "metadata": {},
   "outputs": [],
   "source": []
  }
 ],
 "metadata": {
  "kernelspec": {
   "display_name": "Python 3 (ipykernel)",
   "language": "python",
   "name": "python3"
  },
  "language_info": {
   "codemirror_mode": {
    "name": "ipython",
    "version": 3
   },
   "file_extension": ".py",
   "mimetype": "text/x-python",
   "name": "python",
   "nbconvert_exporter": "python",
   "pygments_lexer": "ipython3",
   "version": "3.11.5"
  }
 },
 "nbformat": 4,
 "nbformat_minor": 5
}
